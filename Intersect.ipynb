{
 "cells": [
  {
   "cell_type": "code",
   "execution_count": 1,
   "metadata": {},
   "outputs": [],
   "source": [
    "from PIL import Image\n",
    "import numpy as np\n",
    "import skimage.transform as trans\n",
    "from glob import glob"
   ]
  },
  {
   "cell_type": "code",
   "execution_count": 2,
   "metadata": {},
   "outputs": [],
   "source": [
    "def intersect(im1, im2, name):\n",
    "    \n",
    "    im1 = np.asarray(im1).astype(np.bool)\n",
    "    im2 = np.asarray(im2).astype(np.bool)\n",
    "#     print(im1.shape)\n",
    "#     print(im2.shape)\n",
    "    \n",
    "    \n",
    "    if im1.shape != im2.shape:\n",
    "        raise ValueError(\"Shape mismatch: im1 and im2 must have the same shape.\")\n",
    "\n",
    "    # Intersection\n",
    "    intersection = np.logical_and(im1, im2)\n",
    "    intersection = intersection.astype(np.int)\n",
    "    \n",
    "    result_image = intersection * 255\n",
    "\n",
    "    img = Image.fromarray(result_image.astype(np.uint8))\n",
    "    img.save(\"resource/dataset_ev/label_intersect/\" + name + '.png' , 'PNG') \n",
    "    "
   ]
  },
  {
   "cell_type": "code",
   "execution_count": 3,
   "metadata": {},
   "outputs": [],
   "source": [
    "target_size = (256,256)"
   ]
  },
  {
   "cell_type": "code",
   "execution_count": 4,
   "metadata": {},
   "outputs": [
    {
     "data": {
      "text/plain": [
       "1084"
      ]
     },
     "execution_count": 4,
     "metadata": {},
     "output_type": "execute_result"
    }
   ],
   "source": [
    "img = glob('resource/dataset_ev/image/*.png')\n",
    "len(img)"
   ]
  },
  {
   "cell_type": "code",
   "execution_count": 5,
   "metadata": {},
   "outputs": [
    {
     "data": {
      "text/plain": [
       "1084"
      ]
     },
     "execution_count": 5,
     "metadata": {},
     "output_type": "execute_result"
    }
   ],
   "source": [
    "la = glob('resource/dataset_ev/label/*.png')\n",
    "len(la)"
   ]
  },
  {
   "cell_type": "code",
   "execution_count": 6,
   "metadata": {},
   "outputs": [
    {
     "name": "stdout",
     "output_type": "stream",
     "text": [
      "1084\n"
     ]
    }
   ],
   "source": [
    "sum = 0\n",
    "for t in img:\n",
    "    # ground truth image\n",
    "    image = Image.open(t)\n",
    "    image = np.array(image)\n",
    "#     image = trans.resize(image,target_size)\n",
    "    \n",
    "    imgName = t[t.find(\"/T1\") + 1 : -4]\n",
    "    \n",
    "    label  = Image.open('resource/dataset_ev/label/' +imgName+ '.png')\n",
    "    label = np.array(label)\n",
    "    \n",
    "    intersect(image, label, imgName)\n",
    "    sum += 1\n",
    "print(sum)"
   ]
  },
  {
   "cell_type": "code",
   "execution_count": 8,
   "metadata": {},
   "outputs": [
    {
     "name": "stdout",
     "output_type": "stream",
     "text": [
      "(256, 256, 3)\n"
     ]
    }
   ],
   "source": [
    "temp  = Image.open('resource/label_fix_resized/' +'T1T1EV0301'+ '.png')\n",
    "temp = np.array(temp)\n",
    "print(temp.shape)"
   ]
  },
  {
   "cell_type": "code",
   "execution_count": null,
   "metadata": {},
   "outputs": [],
   "source": []
  }
 ],
 "metadata": {
  "kernelspec": {
   "display_name": "Python 3",
   "language": "python",
   "name": "python3"
  },
  "language_info": {
   "codemirror_mode": {
    "name": "ipython",
    "version": 3
   },
   "file_extension": ".py",
   "mimetype": "text/x-python",
   "name": "python",
   "nbconvert_exporter": "python",
   "pygments_lexer": "ipython3",
   "version": "3.6.8"
  }
 },
 "nbformat": 4,
 "nbformat_minor": 4
}
