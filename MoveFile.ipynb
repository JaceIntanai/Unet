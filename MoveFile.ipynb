{
 "cells": [
  {
   "cell_type": "code",
   "execution_count": 1,
   "metadata": {},
   "outputs": [],
   "source": [
    "import os\n",
    "import shutil"
   ]
  },
  {
   "cell_type": "code",
   "execution_count": 2,
   "metadata": {},
   "outputs": [],
   "source": [
    "origPath = 'Dataset/Fold_label_unet1/'\n",
    "savePath = 'Dataset/Unet1_v2/'"
   ]
  },
  {
   "cell_type": "code",
   "execution_count": 3,
   "metadata": {},
   "outputs": [],
   "source": [
    "for i in range(5):\n",
    "    sendPath = origPath + str(i) + '/'\n",
    "#     pic_send = os.listdir(sendPath)\n",
    "    pic_send = [file for file in os.listdir(sendPath) if('.ip' not in file)]\n",
    "    if i == 0 : \n",
    "        val = 2\n",
    "    elif i == 1 : \n",
    "        val = 3\n",
    "    elif i == 2 : \n",
    "        val = 4\n",
    "    elif i == 3 : \n",
    "        val = 5\n",
    "    elif i == 4 : \n",
    "        val = 1   \n",
    "#     valPath = savePath + 'Round' + str(val) + '/val/label/'\n",
    "#     shutil.copy(sendPath+pic_send, valPath)\n",
    "    for k in range(5):\n",
    "        if not os.path.exists(savePath+'Round' + str(k+1)):\n",
    "            os.makedirs(savePath+'Round' + str(k+1))\n",
    "        if not os.path.exists(savePath+'Round' + str(k+1) + '/train/'):\n",
    "            os.makedirs(savePath+'Round' + str(k+1) + '/train/')\n",
    "        if not os.path.exists(savePath+'Round' + str(k+1) + '/val/'):\n",
    "            os.makedirs(savePath+'Round' + str(k+1) + '/val/')\n",
    "        if k != val - 1 :\n",
    "            recvPath = savePath + 'Round' + str(k+1) + '/train/label/'\n",
    "            if not os.path.exists(recvPath):\n",
    "                os.makedirs(recvPath)\n",
    "            for pic in pic_send :\n",
    "                shutil.copy(sendPath+pic, recvPath)\n",
    "        else :\n",
    "            valPath = savePath + 'Round' + str(val) + '/val/label/'\n",
    "            if not os.path.exists(valPath):\n",
    "                os.makedirs(valPath)\n",
    "            for pic in pic_send :\n",
    "                shutil.copy(sendPath+pic, valPath)"
   ]
  },
  {
   "cell_type": "markdown",
   "metadata": {},
   "source": [
    "## Delete .ipy"
   ]
  },
  {
   "cell_type": "code",
   "execution_count": null,
   "metadata": {},
   "outputs": [],
   "source": [
    "os.remove('.ipynb_checkpoints/')"
   ]
  }
 ],
 "metadata": {
  "kernelspec": {
   "display_name": "Python 3",
   "language": "python",
   "name": "python3"
  },
  "language_info": {
   "codemirror_mode": {
    "name": "ipython",
    "version": 3
   },
   "file_extension": ".py",
   "mimetype": "text/x-python",
   "name": "python",
   "nbconvert_exporter": "python",
   "pygments_lexer": "ipython3",
   "version": "3.6.8"
  }
 },
 "nbformat": 4,
 "nbformat_minor": 4
}
