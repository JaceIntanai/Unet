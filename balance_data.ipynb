{
 "cells": [
  {
   "cell_type": "code",
   "execution_count": 1,
   "metadata": {},
   "outputs": [],
   "source": [
    "#import support lib\n",
    "import json\n",
    "import os\n",
    "from PIL import Image, ImageOps\n",
    "import pydicom\n",
    "import numpy as np\n",
    "import shutil\n",
    "from collections import OrderedDict\n",
    "import cv2\n",
    "from threading import Thread\n",
    "import math\n",
    "from random import shuffle"
   ]
  },
  {
   "cell_type": "code",
   "execution_count": 2,
   "metadata": {},
   "outputs": [],
   "source": [
    "from Database.Sqlite3 import DB_SQLITE3\n",
    "from random import shuffle\n",
    "import os"
   ]
  },
  {
   "cell_type": "code",
   "execution_count": 6,
   "metadata": {},
   "outputs": [],
   "source": [
    "with open('resource/state/state.json', 'r') as json_file:  \n",
    "    state_file = json.load(json_file)\n",
    "    \n",
    "json_file.close()\n",
    "\n",
    "db = DB_SQLITE3(\"config/blindtest_ex_augment1.db\")"
   ]
  },
  {
   "cell_type": "code",
   "execution_count": 4,
   "metadata": {},
   "outputs": [
    {
     "name": "stdout",
     "output_type": "stream",
     "text": [
      "[24840, 24840, 24840, 24840, 25920]\n",
      "[19440, 19440, 19440, 19440, 19440]\n",
      "[15120, 15120, 15120, 15120, 15120]\n",
      "[12960, 12960, 12960, 12960, 17280]\n",
      "[5400, 5400, 5400, 5400, 8640]\n"
     ]
    }
   ],
   "source": [
    "normals = []\n",
    "milds = []\n",
    "moderates = []\n",
    "severes = []\n",
    "others = []\n",
    "\n",
    "for fold_number in range(5):\n",
    "    \n",
    "    condition = '%/' + str(fold_number) + '/%'\n",
    "    \n",
    "    # count normal\n",
    "    normal_rows = db.select_by_cond(table_name='dataset_info', dict_condition = {'path':condition, 'type': 'Normal'}, list_condition_operation = ['like', '='])\n",
    "    normals.insert(fold_number, len(normal_rows))\n",
    "    # count mild\n",
    "    mild_rows = db.select_by_cond(table_name='dataset_info', dict_condition = {'path':condition, 'type': 'Mild'}, list_condition_operation = ['like', '='])\n",
    "    milds.insert(fold_number, len(mild_rows))\n",
    "    # count moderate\n",
    "    moderate_rows = db.select_by_cond(table_name='dataset_info', dict_condition = {'path':condition, 'type': 'Moderate'}, list_condition_operation = ['like', '='])\n",
    "    moderates.insert(fold_number, len(moderate_rows))\n",
    "    # count severe\n",
    "    severe_rows = db.select_by_cond(table_name='dataset_info', dict_condition = {'path':condition, 'type': 'Severe'}, list_condition_operation = ['like', '='])\n",
    "    severes.insert(fold_number, len(severe_rows))\n",
    "    # count other\n",
    "    other_rows = db.select_by_cond(table_name='dataset_info', dict_condition = {'path':condition, 'type': 'Others'}, list_condition_operation = ['like', '='])\n",
    "    others.insert(fold_number, len(other_rows))\n",
    "    \n",
    "print(normals)\n",
    "print(milds)\n",
    "print(moderates)\n",
    "print(severes)\n",
    "print(others)"
   ]
  },
  {
   "cell_type": "code",
   "execution_count": 7,
   "metadata": {},
   "outputs": [
    {
     "name": "stdout",
     "output_type": "stream",
     "text": [
      "fold_number:  0\n",
      "old fold:  77760\n",
      "new fold:  25791\n",
      "\\\\\\\\\\\\\\\\\\\\\\\\\\\\\\\\\\\\\n",
      "fold_number:  1\n",
      "old fold:  77760\n",
      "new fold:  25791\n",
      "\\\\\\\\\\\\\\\\\\\\\\\\\\\\\\\\\\\\\n",
      "fold_number:  2\n",
      "old fold:  77760\n",
      "new fold:  25791\n",
      "\\\\\\\\\\\\\\\\\\\\\\\\\\\\\\\\\\\\\n",
      "fold_number:  3\n",
      "old fold:  77760\n",
      "new fold:  25791\n",
      "\\\\\\\\\\\\\\\\\\\\\\\\\\\\\\\\\\\\\n",
      "fold_number:  4\n",
      "old fold:  86400\n",
      "new fold:  34562\n",
      "\\\\\\\\\\\\\\\\\\\\\\\\\\\\\\\\\\\\\n"
     ]
    }
   ],
   "source": [
    "rows = db.count(table_name='dataset_info') + 1\n",
    "count_normal = 0\n",
    "count_mild = 0\n",
    "count_moderate = 0\n",
    "count_severe = 0\n",
    "count_other = 0\n",
    "\n",
    "\n",
    "for fold_number in range(5):\n",
    "    \n",
    "    condition = '%/' + str(fold_number) + '/%'\n",
    "    rows = db.select_by_cond(table_name='dataset_info', dict_condition = {'path':condition}, list_condition_operation = ['like'])\n",
    "    \n",
    "    new_fold = []\n",
    "    \n",
    "    severe = severes[fold_number]\n",
    "    absevere = milds[fold_number] + moderates[fold_number] + normals[fold_number] + others[fold_number]\n",
    "    # calculate ratio\n",
    "    mild_ratio = milds[fold_number] / absevere\n",
    "    moderate_ratio = moderates[fold_number] / absevere\n",
    "    normal_ratio = normals[fold_number] / absevere\n",
    "    other_ratio = others[fold_number] / absevere\n",
    "    # calculate number of images\n",
    "    mild_nb = math.ceil(round(mild_ratio, 2) * severe)\n",
    "    moderate_nb = math.ceil(round(moderate_ratio,2)*severe)\n",
    "    normal_nb = math.ceil(round(normal_ratio,2)*severe)\n",
    "    other_nb = math.ceil(round(other_ratio,2)*severe)\n",
    "    \n",
    "#     print(mild_nb)\n",
    "#     print(moderate_nb)\n",
    "#     print(severe_nb)\n",
    "#     print(other_nb)\n",
    "    \n",
    "    for r in rows:\n",
    "        img_id = r[0]\n",
    "        level = r[2]\n",
    " \n",
    "        if level == 'Severe':\n",
    "            new_fold.append(img_id)\n",
    "            count_severe += 1\n",
    "        elif level == 'Mild' and mild_nb != 0:\n",
    "            new_fold.append(img_id)\n",
    "            mild_nb -= 1\n",
    "            count_mild += 1\n",
    "        elif level == 'Moderate' and moderate_nb != 0:\n",
    "            new_fold.append(img_id)\n",
    "            moderate_nb -= 1\n",
    "            count_moderate += 1\n",
    "        elif level == 'Normal' and normal_nb != 0:\n",
    "            new_fold.append(img_id)\n",
    "            normal_nb -= 1\n",
    "            count_normal += 1\n",
    "        elif level == 'Others' and other_nb != 0:\n",
    "            new_fold.append(img_id)\n",
    "            other_nb -= 1\n",
    "            count_other += 1\n",
    "    print('fold_number: ', fold_number)        \n",
    "    print('old fold: ', len(rows))\n",
    "    print('new fold: ',len(new_fold))\n",
    "    print('\\\\\\\\\\\\\\\\\\\\\\\\\\\\\\\\\\\\\\\\\\\\\\\\\\\\\\\\\\\\\\\\\\\\\\\\')\n",
    "    \n",
    "    shuffle(new_fold)\n",
    "    state_file['cross_validation_id'][fold_number] = new_fold\n",
    "    with open('resource/state/state_balance_severe_augment1.json', 'w') as json_file:  \n",
    "        json.dump(state_file, json_file)\n",
    "    json_file.close()\n"
   ]
  },
  {
   "cell_type": "code",
   "execution_count": 8,
   "metadata": {},
   "outputs": [
    {
     "name": "stdout",
     "output_type": "stream",
     "text": [
      "count_normal  26267\n",
      "count_mild  20391\n",
      "count_moderate  15726\n",
      "count_severe  69120\n",
      "count_other  6222\n",
      "count_absevere  68606\n"
     ]
    }
   ],
   "source": [
    "print('count_normal ', count_normal)\n",
    "print('count_mild ', count_mild)\n",
    "print('count_moderate ', count_moderate)\n",
    "print('count_severe ', count_severe)\n",
    "print('count_other ', count_other)\n",
    "print('count_absevere ', count_mild + count_moderate + count_normal + count_other)"
   ]
  },
  {
   "cell_type": "code",
   "execution_count": 9,
   "metadata": {},
   "outputs": [],
   "source": [
    "with open('resource/state/state.json', 'r') as json_file:  \n",
    "    state_file = json.load(json_file)\n",
    "    \n",
    "json_file.close()"
   ]
  },
  {
   "cell_type": "code",
   "execution_count": 10,
   "metadata": {},
   "outputs": [
    {
     "name": "stdout",
     "output_type": "stream",
     "text": [
      "49681\n",
      "\n",
      "49681\n",
      "\n",
      "49681\n",
      "\n",
      "49681\n",
      "\n",
      "51841\n",
      "\n"
     ]
    }
   ],
   "source": [
    "for index, fold in enumerate(state_file['cross_validation_id']):\n",
    "    print(len(fold), end=\"\\n\\n\")"
   ]
  },
  {
   "cell_type": "code",
   "execution_count": null,
   "metadata": {},
   "outputs": [],
   "source": []
  }
 ],
 "metadata": {
  "kernelspec": {
   "display_name": "Python 3",
   "language": "python",
   "name": "python3"
  },
  "language_info": {
   "codemirror_mode": {
    "name": "ipython",
    "version": 3
   },
   "file_extension": ".py",
   "mimetype": "text/x-python",
   "name": "python",
   "nbconvert_exporter": "python",
   "pygments_lexer": "ipython3",
   "version": "3.6.7"
  }
 },
 "nbformat": 4,
 "nbformat_minor": 2
}
