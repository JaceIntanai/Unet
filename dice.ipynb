{
 "cells": [
  {
   "cell_type": "code",
   "execution_count": 1,
   "metadata": {},
   "outputs": [],
   "source": [
    "from PIL import Image\n",
    "import numpy as np\n",
    "import skimage.transform as trans\n",
    "from glob import glob"
   ]
  },
  {
   "cell_type": "code",
   "execution_count": 2,
   "metadata": {},
   "outputs": [],
   "source": [
    "def dice(im1, im2, empty_score=1.0):\n",
    "    \"\"\"\n",
    "    Computes the Dice coefficient, a measure of set similarity.\n",
    "    Parameters\n",
    "    ----------\n",
    "    im1 : array-like, bool\n",
    "        Any array of arbitrary size. If not boolean, will be converted.\n",
    "    im2 : array-like, bool\n",
    "        Any other array of identical size. If not boolean, will be converted.\n",
    "    Returns\n",
    "    -------\n",
    "    dice : float\n",
    "        Dice coefficient as a float on range [0,1].\n",
    "        Maximum similarity = 1\n",
    "        No similarity = 0\n",
    "        Both are empty (sum eq to zero) = empty_score\n",
    "        \n",
    "    Notes\n",
    "    -----\n",
    "    The order of inputs for `dice` is irrelevant. The result will be\n",
    "    identical if `im1` and `im2` are switched.\n",
    "    \"\"\"\n",
    "    im1 = np.asarray(im1).astype(np.bool)\n",
    "    im2 = np.asarray(im2).astype(np.bool)\n",
    "\n",
    "    if im1.shape != im2.shape:\n",
    "        raise ValueError(\"Shape mismatch: im1 and im2 must have the same shape.\")\n",
    "\n",
    "    im_sum = im1.sum() + im2.sum()\n",
    "    if im_sum == 0:\n",
    "        return empty_score\n",
    "\n",
    "    # Compute Dice coefficient\n",
    "    intersection = np.logical_and(im1, im2)\n",
    "\n",
    "    return 2. * intersection.sum() / im_sum"
   ]
  },
  {
   "cell_type": "code",
   "execution_count": 3,
   "metadata": {},
   "outputs": [],
   "source": [
    "target_size = (256,256)"
   ]
  },
  {
   "cell_type": "code",
   "execution_count": 4,
   "metadata": {},
   "outputs": [
    {
     "data": {
      "text/plain": [
       "109"
      ]
     },
     "execution_count": 4,
     "metadata": {},
     "output_type": "execute_result"
    }
   ],
   "source": [
    "test = glob('Dataset/Unet2_lvl9_normal/Test/label/*.png')\n",
    "len(test)"
   ]
  },
  {
   "cell_type": "code",
   "execution_count": 5,
   "metadata": {},
   "outputs": [
    {
     "data": {
      "text/plain": [
       "109"
      ]
     },
     "execution_count": 5,
     "metadata": {},
     "output_type": "execute_result"
    }
   ],
   "source": [
    "predict = glob('Result/Unet2_lvl12_normal/opening-closing/Round5/*.png')\n",
    "len(predict)"
   ]
  },
  {
   "cell_type": "code",
   "execution_count": 6,
   "metadata": {},
   "outputs": [
    {
     "name": "stdout",
     "output_type": "stream",
     "text": [
      "T1T1EV2286 : 0.19301565456734904\n",
      "T1T1EV2048 : 0.5774326416034841\n",
      "T1T1EV2152 : 0.5586434291097504\n",
      "T1T1EV0157 : 0.5548203641931426\n",
      "T1T1EV0348 : 0.1973169009564157\n",
      "T1T1EV0180 : 0.577972381273156\n",
      "T1T1EV2172 : 0.3572232354196578\n",
      "T1T1EV3009 : 0.5280072167564063\n",
      "T1T1EV2405 : 0.14786334175546523\n",
      "T1T1EV2001 : 0.569366256061535\n",
      "T1T1EV2143 : 0.0873685769287724\n",
      "T1T1EV2223 : 0.2711609185416848\n",
      "T1T1EV2264 : 0.5286198547215496\n",
      "T1T1EV2346 : 0.2837526787840305\n",
      "T1T1EV0164 : 0.5588497547926884\n",
      "T1T1EV0289 : 0.10747810747810747\n",
      "T1T1EV0008 : 0.18512243955028493\n",
      "T1T1EV0358 : 0.304\n",
      "T1T1EV2343 : 0.5239050484787696\n"
     ]
    }
   ],
   "source": [
    "sum = 0\n",
    "for t in test:\n",
    "    # ground truth image\n",
    "    gt  = Image.open(t).convert('L')\n",
    "    gt = np.array(gt)\n",
    "    gt = trans.resize(gt,target_size)\n",
    "    \n",
    "    imgName = t[t.find(\"/T1\") + 1 : -4]\n",
    "#     print(imgName)\n",
    "    \n",
    "    # segment image from model\n",
    "#     seg  = Image.open('Dataset/predict_test/Unet_lvl2/1_20_re/' +imgName+ '.png')\n",
    "    seg  = Image.open('Result/Unet2_lvl12_normal/opening-closing/Round5/' +imgName+ '.png')\n",
    "    seg = np.array(seg)\n",
    "    \n",
    "    # print(gt.shape)\n",
    "    # print(seg.shape)\n",
    "    score = dice(gt,seg)\n",
    "    if score <= 0.6 :\n",
    "        print(imgName + \" : \" + str(score))\n",
    "    sum = sum + score"
   ]
  },
  {
   "cell_type": "code",
   "execution_count": 7,
   "metadata": {},
   "outputs": [
    {
     "data": {
      "text/plain": [
       "84.45278779030085"
      ]
     },
     "execution_count": 7,
     "metadata": {},
     "output_type": "execute_result"
    }
   ],
   "source": [
    "sum"
   ]
  },
  {
   "cell_type": "code",
   "execution_count": 8,
   "metadata": {},
   "outputs": [
    {
     "data": {
      "text/plain": [
       "0.7747962182596407"
      ]
     },
     "execution_count": 8,
     "metadata": {},
     "output_type": "execute_result"
    }
   ],
   "source": [
    "dice = sum / len(test)\n",
    "dice"
   ]
  },
  {
   "cell_type": "code",
   "execution_count": null,
   "metadata": {},
   "outputs": [],
   "source": []
  }
 ],
 "metadata": {
  "kernelspec": {
   "display_name": "Python 3",
   "language": "python",
   "name": "python3"
  },
  "language_info": {
   "codemirror_mode": {
    "name": "ipython",
    "version": 3
   },
   "file_extension": ".py",
   "mimetype": "text/x-python",
   "name": "python",
   "nbconvert_exporter": "python",
   "pygments_lexer": "ipython3",
   "version": "3.6.8"
  }
 },
 "nbformat": 4,
 "nbformat_minor": 4
}
