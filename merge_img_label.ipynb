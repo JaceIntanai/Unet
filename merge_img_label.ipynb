{
 "cells": [
  {
   "cell_type": "code",
   "execution_count": 2,
   "metadata": {},
   "outputs": [],
   "source": [
    "from PIL import Image\n",
    "import os\n",
    "import shutil\n",
    "import numpy as np\n",
    "import cv2\n",
    "from threading import Thread\n",
    "import math\n",
    "from random import shuffle\n",
    "import _thread\n",
    "import time\n",
    "import skimage.transform as trans\n",
    "from glob import glob"
   ]
  },
  {
   "cell_type": "code",
   "execution_count": 3,
   "metadata": {},
   "outputs": [
    {
     "data": {
      "text/plain": [
       "2046"
      ]
     },
     "execution_count": 3,
     "metadata": {},
     "output_type": "execute_result"
    }
   ],
   "source": [
    "# path_img = \"resource/dataset_ev_org_resized/\"\n",
    "path_img = \"resource/dataset_ev/image/\"\n",
    "# path_label = \"Result/Unet2_v2/predict_output/Round4/result_test/\"\n",
    "# path_label = \"resource/predict_unet2_v2/\"\n",
    "path_label = 'Images/Unet1_v3/'\n",
    "# save_path = \"resource/merge_unet2_v2/\"\n",
    "save_path = 'Images/Merge_Unet1_v3/'\n",
    "all_img = os.listdir(path_label)\n",
    "len(all_img)"
   ]
  },
  {
   "cell_type": "code",
   "execution_count": 4,
   "metadata": {},
   "outputs": [],
   "source": [
    "target_shape = (256, 256, 3)\n",
    "for x in all_img :\n",
    "    img = Image.open(path_img + x)\n",
    "    img = np.array(img)\n",
    "    img = trans.resize(img,target_shape)\n",
    "    \n",
    "    label = Image.open(path_label + x)\n",
    "    label = label.convert('L')\n",
    "    label = np.array(label)\n",
    "    label = trans.resize(label,target_shape)\n",
    "    \n",
    "    if np.any(img):\n",
    "        # intersect \n",
    "        result_image = label * img\n",
    "    \n",
    "    result_image = result_image * 255\n",
    "    img = Image.fromarray(result_image.astype(np.uint8))\n",
    "    img.save(save_path + x , 'PNG')"
   ]
  },
  {
   "cell_type": "code",
   "execution_count": null,
   "metadata": {},
   "outputs": [],
   "source": []
  }
 ],
 "metadata": {
  "kernelspec": {
   "display_name": "Python 3",
   "language": "python",
   "name": "python3"
  },
  "language_info": {
   "codemirror_mode": {
    "name": "ipython",
    "version": 3
   },
   "file_extension": ".py",
   "mimetype": "text/x-python",
   "name": "python",
   "nbconvert_exporter": "python",
   "pygments_lexer": "ipython3",
   "version": "3.6.8"
  }
 },
 "nbformat": 4,
 "nbformat_minor": 4
}
