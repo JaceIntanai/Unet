{
 "cells": [
  {
   "cell_type": "code",
   "execution_count": 1,
   "metadata": {},
   "outputs": [],
   "source": [
    "import cv2\n",
    "import numpy as np\n",
    "from PIL import Image\n",
    "from glob import glob\n",
    "import skimage\n",
    "from skimage.morphology import (square, rectangle, diamond, disk, cube,\n",
    "                                octahedron, ball, octagon, star)\n",
    "import matplotlib.pyplot as plt"
   ]
  },
  {
   "cell_type": "code",
   "execution_count": 2,
   "metadata": {},
   "outputs": [],
   "source": [
    "targetPath = \"Result/Unet2_lvl12_normal/predict_output/Round5/result_test/\"\n",
    "savePath = \"Result/Unet2_lvl12_normal/opening-closing/Round5/\""
   ]
  },
  {
   "cell_type": "code",
   "execution_count": 3,
   "metadata": {},
   "outputs": [
    {
     "data": {
      "text/plain": [
       "109"
      ]
     },
     "execution_count": 3,
     "metadata": {},
     "output_type": "execute_result"
    }
   ],
   "source": [
    "target = glob(targetPath + '*.png')\n",
    "len(target)"
   ]
  },
  {
   "cell_type": "code",
   "execution_count": 4,
   "metadata": {},
   "outputs": [],
   "source": [
    "def flood_fill(img):\n",
    "\n",
    "    \n",
    "    im_th = img.copy()\n",
    "\n",
    "    # Copy the thresholded image.\n",
    "    im_floodfill = im_th.copy()\n",
    "\n",
    "    # Mask used to flood filling.\n",
    "     # Notice the size needs to be 2 pixels than the image.\n",
    "    h, w = im_th.shape[:2]\n",
    "#     print(h,w)\n",
    "    mask = np.zeros((h+2, w+2), np.uint8)\n",
    "\n",
    "    # Floodfill from point (0, 0)\n",
    "    cv2.floodFill(im_floodfill, mask, (0,0), 255);\n",
    "\n",
    "    # Invert floodfilled image\n",
    "    im_floodfill_inv = cv2.bitwise_not(im_floodfill)\n",
    "\n",
    "    # Combine the two images to get the foreground.\n",
    "    im_out = im_th | im_floodfill_inv\n",
    "    \n",
    "    return im_out"
   ]
  },
  {
   "cell_type": "code",
   "execution_count": 7,
   "metadata": {},
   "outputs": [],
   "source": [
    "for item in target :\n",
    "    img = Image.open(item)\n",
    "    \n",
    "    img = img.convert('L')\n",
    "    img = np.array(img)\n",
    "    \n",
    "#     print(img.shape)\n",
    "#     temp = img[:,:,1]\n",
    "    \n",
    "#     img = np.asarray(img).astype(np.bool)\n",
    "#     img = np.asarray(img).astype(np.int) * 255\n",
    "    \n",
    "#     print(np.max(img))\n",
    "#     print(np.min(img))\n",
    "#     print(np.average(img))\n",
    "#     plt.imshow(img)\n",
    "#     print(type(img))\n",
    "    img = np.uint8(img)\n",
    "\n",
    "#     print(img.shape)\n",
    "    \n",
    "    imgName = item[item.find(\"/T1\") + 1 : -4]\n",
    "    \n",
    "#     img = flood_fill(img)\n",
    "    kernel = np.ones((3,3),np.uint8)\n",
    "    kernel_o = disk(2)\n",
    "    \n",
    "    dilation = cv2.dilate(img,kernel_o,iterations = 1)\n",
    "    dilation = cv2.dilate(dilation,kernel,iterations = 1)\n",
    "    erosion = cv2.erode(dilation,kernel_o,iterations = 1)\n",
    "    erosion = cv2.erode(erosion,kernel_o,iterations = 1)\n",
    "    dilation = cv2.dilate(erosion,kernel,iterations = 1)\n",
    "    erosion = cv2.erode(dilation,kernel,iterations = 1)\n",
    "    \n",
    "    img = Image.fromarray(img.astype(np.uint8))\n",
    "    img.save(savePath + imgName + '.png' , 'PNG')\n",
    "    "
   ]
  },
  {
   "cell_type": "code",
   "execution_count": 21,
   "metadata": {},
   "outputs": [],
   "source": [
    "kernel = np.ones((3,3),np.uint8)\n",
    "kernel_o = disk(2)"
   ]
  },
  {
   "cell_type": "code",
   "execution_count": 23,
   "metadata": {},
   "outputs": [
    {
     "data": {
      "text/plain": [
       "<matplotlib.image.AxesImage at 0x7f9265bdaa20>"
      ]
     },
     "execution_count": 23,
     "metadata": {},
     "output_type": "execute_result"
    },
    {
     "data": {
      "image/png": "[encoded data removed]",
      "text/plain": [
       "<Figure size 432x288 with 1 Axes>"
      ]
     },
     "metadata": {
      "needs_background": "light"
     },
     "output_type": "display_data"
    }
   ],
   "source": [
    "plt.imshow(kernel_o)"
   ]
  },
  {
   "cell_type": "code",
   "execution_count": null,
   "metadata": {},
   "outputs": [],
   "source": []
  }
 ],
 "metadata": {
  "kernelspec": {
   "display_name": "Python 3",
   "language": "python",
   "name": "python3"
  },
  "language_info": {
   "codemirror_mode": {
    "name": "ipython",
    "version": 3
   },
   "file_extension": ".py",
   "mimetype": "text/x-python",
   "name": "python",
   "nbconvert_exporter": "python",
   "pygments_lexer": "ipython3",
   "version": "3.6.8"
  }
 },
 "nbformat": 4,
 "nbformat_minor": 4
}
